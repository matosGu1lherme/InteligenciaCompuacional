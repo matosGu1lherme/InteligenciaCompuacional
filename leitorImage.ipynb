{
 "cells": [
  {
   "cell_type": "code",
   "execution_count": 3,
   "metadata": {},
   "outputs": [],
   "source": [
    "from PIL import Image\n",
    "from numpy import asarray\n",
    "\n",
    "import os"
   ]
  },
  {
   "cell_type": "code",
   "execution_count": 26,
   "metadata": {},
   "outputs": [],
   "source": [
    "def vectorTrain(path):\n",
    "\n",
    "    dict_images = {}\n",
    "    for idx in range(10):\n",
    "\n",
    "        arq_names = os.listdir(f\"{path}/{idx}/\")\n",
    "        list_arqs = list()\n",
    "        for arq in arq_names:\n",
    "            path_arq = path + str(idx) + \"/\" + arq\n",
    "            img = Image.open(path_arq)\n",
    "            array = asarray(Image.fromarray(asarray(img)).resize((13,26)))\n",
    "            list_arqs.append(array)\n",
    "        dict_images[f\"{idx}\"] = list_arqs\n",
    "\n",
    "    return dict_images"
   ]
  },
  {
   "cell_type": "code",
   "execution_count": 27,
   "metadata": {},
   "outputs": [],
   "source": [
    "images_dict = vectorTrain(\"/UTFPR/InteligenciaComputacional/InteligenciaComputacional/treino/teste/\")\n"
   ]
  },
  {
   "cell_type": "code",
   "execution_count": 28,
   "metadata": {},
   "outputs": [
    {
     "name": "stdout",
     "output_type": "stream",
     "text": [
      "[[ 92   0   0   0   0   0   0  92]\n",
      " [  0   0   0   0   0   0   0   0]\n",
      " [  0   0   0   0   0   0   0   0]\n",
      " [  0   0   1  72  81  81  77 167]\n",
      " [  0   0   3 214 239 239 255 255]\n",
      " [  0   0   0   3   3   3 145 255]\n",
      " [  0   0   0   0   0   0   3 177]\n",
      " [  0   0   0   0   0   0   0  55]\n",
      " [  0   0   0   0   0   0   0   0]\n",
      " [ 21   0  19 183 183  25   0   0]\n",
      " [216 137 209 255 255 141   0   0]\n",
      " [119  58 231 255 255 144   0   0]\n",
      " [  0   0  38 214 214  43   0   0]\n",
      " [  0   0   0   2   2   0   0   0]\n",
      " [ 32   0   0   0   0   0   0  32]\n",
      " [220  36   0   0   0   0  36 220]]\n"
     ]
    }
   ],
   "source": [
    "print(images_dict[\"5\"][1])"
   ]
  }
 ],
 "metadata": {
  "kernelspec": {
   "display_name": "Python 3",
   "language": "python",
   "name": "python3"
  },
  "language_info": {
   "codemirror_mode": {
    "name": "ipython",
    "version": 3
   },
   "file_extension": ".py",
   "mimetype": "text/x-python",
   "name": "python",
   "nbconvert_exporter": "python",
   "pygments_lexer": "ipython3",
   "version": "3.11.4"
  },
  "orig_nbformat": 4
 },
 "nbformat": 4,
 "nbformat_minor": 2
}
